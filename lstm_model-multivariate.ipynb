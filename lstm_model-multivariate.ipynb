{
 "cells": [
  {
   "cell_type": "code",
   "execution_count": 1,
   "metadata": {},
   "outputs": [],
   "source": [
    "import numpy as np\n",
    "import pandas as pd\n",
    "from numpy import array\n",
    "from random import randint\n",
    "from sklearn.utils import shuffle\n",
    "from sklearn.preprocessing import MinMaxScaler\n",
    "import tensorflow as tf\n",
    "from tensorflow import keras\n",
    "from tensorflow.keras.models import Sequential\n",
    "from tensorflow.keras.layers import Activation, Dense, LSTM\n",
    "from tensorflow.keras.optimizers import Adam\n",
    "from tensorflow.keras.metrics import categorical_crossentropy\n",
    "%matplotlib inline\n",
    "from sklearn.metrics import confusion_matrix\n",
    "import itertools\n",
    "import matplotlib.pyplot as plt\n",
    "import seaborn as sns"
   ]
  },
  {
   "cell_type": "code",
   "execution_count": 2,
   "metadata": {},
   "outputs": [
    {
     "data": {
      "text/html": [
       "<div>\n",
       "<style scoped>\n",
       "    .dataframe tbody tr th:only-of-type {\n",
       "        vertical-align: middle;\n",
       "    }\n",
       "\n",
       "    .dataframe tbody tr th {\n",
       "        vertical-align: top;\n",
       "    }\n",
       "\n",
       "    .dataframe thead th {\n",
       "        text-align: right;\n",
       "    }\n",
       "</style>\n",
       "<table border=\"1\" class=\"dataframe\">\n",
       "  <thead>\n",
       "    <tr style=\"text-align: right;\">\n",
       "      <th></th>\n",
       "      <th>year</th>\n",
       "      <th>he</th>\n",
       "      <th>brt</th>\n",
       "      <th>infant</th>\n",
       "      <th>u5</th>\n",
       "    </tr>\n",
       "  </thead>\n",
       "  <tbody>\n",
       "    <tr>\n",
       "      <th>0</th>\n",
       "      <td>2000</td>\n",
       "      <td>4.639261</td>\n",
       "      <td>40.037</td>\n",
       "      <td>28.5</td>\n",
       "      <td>98.5</td>\n",
       "    </tr>\n",
       "    <tr>\n",
       "      <th>1</th>\n",
       "      <td>2001</td>\n",
       "      <td>4.803683</td>\n",
       "      <td>39.777</td>\n",
       "      <td>28.4</td>\n",
       "      <td>94.2</td>\n",
       "    </tr>\n",
       "    <tr>\n",
       "      <th>2</th>\n",
       "      <td>2002</td>\n",
       "      <td>4.958624</td>\n",
       "      <td>39.468</td>\n",
       "      <td>28.1</td>\n",
       "      <td>89.9</td>\n",
       "    </tr>\n",
       "    <tr>\n",
       "      <th>3</th>\n",
       "      <td>2003</td>\n",
       "      <td>5.169111</td>\n",
       "      <td>39.135</td>\n",
       "      <td>27.9</td>\n",
       "      <td>85.5</td>\n",
       "    </tr>\n",
       "    <tr>\n",
       "      <th>4</th>\n",
       "      <td>2004</td>\n",
       "      <td>5.344938</td>\n",
       "      <td>38.773</td>\n",
       "      <td>27.5</td>\n",
       "      <td>81.1</td>\n",
       "    </tr>\n",
       "    <tr>\n",
       "      <th>5</th>\n",
       "      <td>2005</td>\n",
       "      <td>5.314368</td>\n",
       "      <td>38.366</td>\n",
       "      <td>27.1</td>\n",
       "      <td>76.5</td>\n",
       "    </tr>\n",
       "    <tr>\n",
       "      <th>6</th>\n",
       "      <td>2006</td>\n",
       "      <td>5.873446</td>\n",
       "      <td>37.890</td>\n",
       "      <td>26.5</td>\n",
       "      <td>72.3</td>\n",
       "    </tr>\n",
       "    <tr>\n",
       "      <th>7</th>\n",
       "      <td>2007</td>\n",
       "      <td>5.997070</td>\n",
       "      <td>37.330</td>\n",
       "      <td>26.0</td>\n",
       "      <td>68.3</td>\n",
       "    </tr>\n",
       "    <tr>\n",
       "      <th>8</th>\n",
       "      <td>2008</td>\n",
       "      <td>6.049857</td>\n",
       "      <td>36.678</td>\n",
       "      <td>25.5</td>\n",
       "      <td>63.9</td>\n",
       "    </tr>\n",
       "    <tr>\n",
       "      <th>9</th>\n",
       "      <td>2009</td>\n",
       "      <td>6.027808</td>\n",
       "      <td>35.942</td>\n",
       "      <td>24.9</td>\n",
       "      <td>60.3</td>\n",
       "    </tr>\n",
       "  </tbody>\n",
       "</table>\n",
       "</div>"
      ],
      "text/plain": [
       "   year        he     brt  infant    u5\n",
       "0  2000  4.639261  40.037    28.5  98.5\n",
       "1  2001  4.803683  39.777    28.4  94.2\n",
       "2  2002  4.958624  39.468    28.1  89.9\n",
       "3  2003  5.169111  39.135    27.9  85.5\n",
       "4  2004  5.344938  38.773    27.5  81.1\n",
       "5  2005  5.314368  38.366    27.1  76.5\n",
       "6  2006  5.873446  37.890    26.5  72.3\n",
       "7  2007  5.997070  37.330    26.0  68.3\n",
       "8  2008  6.049857  36.678    25.5  63.9\n",
       "9  2009  6.027808  35.942    24.9  60.3"
      ]
     },
     "execution_count": 2,
     "metadata": {},
     "output_type": "execute_result"
    }
   ],
   "source": [
    "#process data\n",
    "\n",
    "#read from csv\n",
    "df=pd.read_csv('data/multivariate/kenya_all_indicators.csv')\n",
    "xlabel = 'Year'\n",
    "y1label = 'Heath Expenditure (%GDP)' \n",
    "y2label = 'Birth Rate (per 1000 people)'\n",
    "title = 'Health Expenditure vs Birth Rate'\n",
    "\n",
    "df.head(10)\n"
   ]
  },
  {
   "cell_type": "code",
   "execution_count": 3,
   "metadata": {},
   "outputs": [
    {
     "data": {
      "text/plain": [
       "Text(0.5, 0.98, 'Health Expenditure vs Birth Rate')"
      ]
     },
     "execution_count": 3,
     "metadata": {},
     "output_type": "execute_result"
    },
    {
     "data": {
      "image/png": "[encoded data removed]",
      "text/plain": [
       "<Figure size 432x288 with 2 Axes>"
      ]
     },
     "metadata": {
      "needs_background": "light"
     },
     "output_type": "display_data"
    }
   ],
   "source": [
    "fig, (ax1, ax2) = plt.subplots(1, 2)\n",
    "ax1.plot(df['year'],df['he'], color = 'blue')\n",
    "ax2.plot(df['year'],df['infant'], color = 'green')\n",
    "ax1.set(xlabel = xlabel,ylabel = y1label)\n",
    "ax2.set(xlabel = xlabel,ylabel = y2label)\n",
    "fig.suptitle(title)\n"
   ]
  },
  {
   "cell_type": "code",
   "execution_count": 41,
   "metadata": {},
   "outputs": [
    {
     "data": {
      "text/plain": [
       "array([[ 4.63926125, 40.037     , 28.5       ],\n",
       "       [ 4.8036828 , 39.777     , 28.4       ],\n",
       "       [ 4.95862436, 39.468     , 28.1       ],\n",
       "       [ 5.16911125, 39.135     , 27.9       ],\n",
       "       [ 5.3449378 , 38.773     , 27.5       ],\n",
       "       [ 5.31436777, 38.366     , 27.1       ],\n",
       "       [ 5.87344599, 37.89      , 26.5       ],\n",
       "       [ 5.99706984, 37.33      , 26.        ],\n",
       "       [ 6.04985666, 36.678     , 25.5       ],\n",
       "       [ 6.02780771, 35.942     , 24.9       ],\n",
       "       [ 6.11675072, 35.128     , 24.5       ],\n",
       "       [ 5.81170416, 34.249     , 24.1       ],\n",
       "       [ 5.61369753, 33.333     , 23.7       ]])"
      ]
     },
     "execution_count": 41,
     "metadata": {},
     "output_type": "execute_result"
    }
   ],
   "source": [
    "#separate data into training and test datasets as arrays\n",
    "training_set = df.iloc[:13, 1:4].values\n",
    "test_set = df.iloc[13:, 1:4].values\n",
    "test_years=df.loc[15:, 'year'].values\n",
    "test_years = np.reshape(test_years, (4,1))\n",
    "\n",
    "#normalize the data? not added yet.....\n",
    "scaler = MinMaxScaler(feature_range = (0,1))\n",
    "scaled_train_samples = scaler.fit_transform(training_set)\n",
    "\n",
    "#timesteps\n",
    "n_steps = 3\n",
    "\n",
    "#features\n",
    "n_features = 2\n",
    "training_set"
   ]
  },
  {
   "cell_type": "code",
   "execution_count": 42,
   "metadata": {},
   "outputs": [
    {
     "data": {
      "text/plain": [
       "array([[[ 4.63926125, 40.037     ],\n",
       "        [ 4.8036828 , 39.777     ],\n",
       "        [ 4.95862436, 39.468     ]],\n",
       "\n",
       "       [[ 4.8036828 , 39.777     ],\n",
       "        [ 4.95862436, 39.468     ],\n",
       "        [ 5.16911125, 39.135     ]],\n",
       "\n",
       "       [[ 4.95862436, 39.468     ],\n",
       "        [ 5.16911125, 39.135     ],\n",
       "        [ 5.3449378 , 38.773     ]],\n",
       "\n",
       "       [[ 5.16911125, 39.135     ],\n",
       "        [ 5.3449378 , 38.773     ],\n",
       "        [ 5.31436777, 38.366     ]],\n",
       "\n",
       "       [[ 5.3449378 , 38.773     ],\n",
       "        [ 5.31436777, 38.366     ],\n",
       "        [ 5.87344599, 37.89      ]],\n",
       "\n",
       "       [[ 5.31436777, 38.366     ],\n",
       "        [ 5.87344599, 37.89      ],\n",
       "        [ 5.99706984, 37.33      ]],\n",
       "\n",
       "       [[ 5.87344599, 37.89      ],\n",
       "        [ 5.99706984, 37.33      ],\n",
       "        [ 6.04985666, 36.678     ]],\n",
       "\n",
       "       [[ 5.99706984, 37.33      ],\n",
       "        [ 6.04985666, 36.678     ],\n",
       "        [ 6.02780771, 35.942     ]],\n",
       "\n",
       "       [[ 6.04985666, 36.678     ],\n",
       "        [ 6.02780771, 35.942     ],\n",
       "        [ 6.11675072, 35.128     ]],\n",
       "\n",
       "       [[ 6.02780771, 35.942     ],\n",
       "        [ 6.11675072, 35.128     ],\n",
       "        [ 5.81170416, 34.249     ]],\n",
       "\n",
       "       [[ 6.11675072, 35.128     ],\n",
       "        [ 5.81170416, 34.249     ],\n",
       "        [ 5.61369753, 33.333     ]]])"
      ]
     },
     "execution_count": 42,
     "metadata": {},
     "output_type": "execute_result"
    }
   ],
   "source": [
    "#split the data set into time steps that predict the next step: x for samples, y for labels (actual output)\n",
    "\n",
    "def split_sequence(sequence, n_steps):\n",
    "    x, y = list(), list()\n",
    "    for i in range(len(sequence)):\n",
    "        # find the end of this pattern\n",
    "        end_ix = i + n_steps\n",
    "        # check if we are beyond the sequence\n",
    "        if end_ix > len(sequence):\n",
    "            break\n",
    "        # gather input and output parts of the pattern\n",
    "        seq_x, seq_y = sequence[i:end_ix, :-1], sequence[end_ix-1, -1]\n",
    "        x.append(seq_x)\n",
    "        y.append(seq_y)\n",
    "    return array(x), array(y)\n",
    "\n",
    "#prepare the data for training\n",
    "x, y = split_sequence(training_set, n_steps)\n",
    "x"
   ]
  },
  {
   "cell_type": "code",
   "execution_count": 43,
   "metadata": {},
   "outputs": [
    {
     "name": "stdout",
     "output_type": "stream",
     "text": [
      "Model: \"sequential_2\"\n",
      "_________________________________________________________________\n",
      "Layer (type)                 Output Shape              Param #   \n",
      "=================================================================\n",
      "lstm_6 (LSTM)                (None, 3, 50)             10600     \n",
      "_________________________________________________________________\n",
      "lstm_7 (LSTM)                (None, 3, 50)             20200     \n",
      "_________________________________________________________________\n",
      "lstm_8 (LSTM)                (None, 50)                20200     \n",
      "_________________________________________________________________\n",
      "dense_2 (Dense)              (None, 1)                 51        \n",
      "=================================================================\n",
      "Total params: 51,051\n",
      "Trainable params: 51,051\n",
      "Non-trainable params: 0\n",
      "_________________________________________________________________\n"
     ]
    }
   ],
   "source": [
    "#build the model\n",
    "#activation: relu to get the max btwn 0 and the input, default activation on the output layer (sigmoid), Dense on output\n",
    "\n",
    "model = Sequential([\n",
    "    LSTM(units=50, input_shape=(n_steps, n_features), activation='relu',return_sequences=True),\n",
    "    LSTM(50, activation='relu',return_sequences=True),\n",
    "    LSTM(50, activation='relu'),\n",
    "    Dense(units=1)\n",
    "])\n",
    "\n",
    "model.summary()"
   ]
  },
  {
   "cell_type": "code",
   "execution_count": 44,
   "metadata": {
    "collapsed": true,
    "jupyter": {
     "outputs_hidden": true
    }
   },
   "outputs": [
    {
     "name": "stdout",
     "output_type": "stream",
     "text": [
      "Epoch 1/100\n",
      "9/9 - 2s - loss: 268.7085 - accuracy: 0.0000e+00 - val_loss: 13.0682 - val_accuracy: 0.0000e+00\n",
      "Epoch 2/100\n",
      "9/9 - 0s - loss: 8.0961 - accuracy: 0.0000e+00 - val_loss: 11.6735 - val_accuracy: 0.0000e+00\n",
      "Epoch 3/100\n",
      "9/9 - 0s - loss: 4.4771 - accuracy: 0.0000e+00 - val_loss: 3.0200 - val_accuracy: 0.0000e+00\n",
      "Epoch 4/100\n",
      "9/9 - 0s - loss: 1.5032 - accuracy: 0.0000e+00 - val_loss: 0.0577 - val_accuracy: 0.0000e+00\n",
      "Epoch 5/100\n",
      "9/9 - 0s - loss: 0.6913 - accuracy: 0.0000e+00 - val_loss: 0.0280 - val_accuracy: 0.0000e+00\n",
      "Epoch 6/100\n",
      "9/9 - 0s - loss: 0.5639 - accuracy: 0.0000e+00 - val_loss: 0.2765 - val_accuracy: 0.0000e+00\n",
      "Epoch 7/100\n",
      "9/9 - 0s - loss: 1.3034 - accuracy: 0.0000e+00 - val_loss: 2.4195 - val_accuracy: 0.0000e+00\n",
      "Epoch 8/100\n",
      "9/9 - 0s - loss: 4.0987 - accuracy: 0.0000e+00 - val_loss: 6.1046 - val_accuracy: 0.0000e+00\n",
      "Epoch 9/100\n",
      "9/9 - 0s - loss: 3.3012 - accuracy: 0.0000e+00 - val_loss: 1.3933 - val_accuracy: 0.0000e+00\n",
      "Epoch 10/100\n",
      "9/9 - 0s - loss: 1.5411 - accuracy: 0.0000e+00 - val_loss: 0.6521 - val_accuracy: 0.0000e+00\n",
      "Epoch 11/100\n",
      "9/9 - 0s - loss: 1.8061 - accuracy: 0.0000e+00 - val_loss: 0.0462 - val_accuracy: 0.0000e+00\n",
      "Epoch 12/100\n",
      "9/9 - 0s - loss: 0.5912 - accuracy: 0.0000e+00 - val_loss: 2.1346 - val_accuracy: 0.0000e+00\n",
      "Epoch 13/100\n",
      "9/9 - 0s - loss: 0.7473 - accuracy: 0.0000e+00 - val_loss: 0.1334 - val_accuracy: 0.0000e+00\n",
      "Epoch 14/100\n",
      "9/9 - 0s - loss: 0.6775 - accuracy: 0.0000e+00 - val_loss: 0.2233 - val_accuracy: 0.0000e+00\n",
      "Epoch 15/100\n",
      "9/9 - 0s - loss: 0.5301 - accuracy: 0.0000e+00 - val_loss: 0.4751 - val_accuracy: 0.0000e+00\n",
      "Epoch 16/100\n",
      "9/9 - 0s - loss: 0.4058 - accuracy: 0.0000e+00 - val_loss: 0.3152 - val_accuracy: 0.0000e+00\n",
      "Epoch 17/100\n",
      "9/9 - 0s - loss: 0.2077 - accuracy: 0.0000e+00 - val_loss: 0.4987 - val_accuracy: 0.0000e+00\n",
      "Epoch 18/100\n",
      "9/9 - 0s - loss: 0.5250 - accuracy: 0.0000e+00 - val_loss: 0.5894 - val_accuracy: 0.0000e+00\n",
      "Epoch 19/100\n",
      "9/9 - 0s - loss: 0.7978 - accuracy: 0.0000e+00 - val_loss: 0.3566 - val_accuracy: 0.0000e+00\n",
      "Epoch 20/100\n",
      "9/9 - 0s - loss: 0.3758 - accuracy: 0.0000e+00 - val_loss: 0.8237 - val_accuracy: 0.0000e+00\n",
      "Epoch 21/100\n",
      "9/9 - 0s - loss: 0.4632 - accuracy: 0.0000e+00 - val_loss: 0.0455 - val_accuracy: 0.0000e+00\n",
      "Epoch 22/100\n",
      "9/9 - 0s - loss: 0.1178 - accuracy: 0.0000e+00 - val_loss: 0.3710 - val_accuracy: 0.0000e+00\n",
      "Epoch 23/100\n",
      "9/9 - 0s - loss: 0.1413 - accuracy: 0.0000e+00 - val_loss: 0.0518 - val_accuracy: 0.0000e+00\n",
      "Epoch 24/100\n",
      "9/9 - 0s - loss: 0.5764 - accuracy: 0.0000e+00 - val_loss: 0.8024 - val_accuracy: 0.0000e+00\n",
      "Epoch 25/100\n",
      "9/9 - 0s - loss: 0.3487 - accuracy: 0.0000e+00 - val_loss: 0.0630 - val_accuracy: 0.0000e+00\n",
      "Epoch 26/100\n",
      "9/9 - 0s - loss: 0.2325 - accuracy: 0.0000e+00 - val_loss: 0.5347 - val_accuracy: 0.0000e+00\n",
      "Epoch 27/100\n",
      "9/9 - 0s - loss: 0.1873 - accuracy: 0.0000e+00 - val_loss: 0.0284 - val_accuracy: 0.0000e+00\n",
      "Epoch 28/100\n",
      "9/9 - 0s - loss: 0.3669 - accuracy: 0.0000e+00 - val_loss: 0.3845 - val_accuracy: 0.0000e+00\n",
      "Epoch 29/100\n",
      "9/9 - 0s - loss: 0.2496 - accuracy: 0.0000e+00 - val_loss: 0.5243 - val_accuracy: 0.0000e+00\n",
      "Epoch 30/100\n",
      "9/9 - 0s - loss: 0.1810 - accuracy: 0.0000e+00 - val_loss: 0.0825 - val_accuracy: 0.0000e+00\n",
      "Epoch 31/100\n",
      "9/9 - 0s - loss: 0.1067 - accuracy: 0.0000e+00 - val_loss: 0.4379 - val_accuracy: 0.0000e+00\n",
      "Epoch 32/100\n",
      "9/9 - 0s - loss: 0.0333 - accuracy: 0.0000e+00 - val_loss: 0.0857 - val_accuracy: 0.0000e+00\n",
      "Epoch 33/100\n",
      "9/9 - 0s - loss: 0.0657 - accuracy: 0.0000e+00 - val_loss: 0.4363 - val_accuracy: 0.0000e+00\n",
      "Epoch 34/100\n",
      "9/9 - 0s - loss: 0.0566 - accuracy: 0.0000e+00 - val_loss: 0.2982 - val_accuracy: 0.0000e+00\n",
      "Epoch 35/100\n",
      "9/9 - 0s - loss: 0.0839 - accuracy: 0.0000e+00 - val_loss: 0.1942 - val_accuracy: 0.0000e+00\n",
      "Epoch 36/100\n",
      "9/9 - 0s - loss: 0.2158 - accuracy: 0.0000e+00 - val_loss: 0.1384 - val_accuracy: 0.0000e+00\n",
      "Epoch 37/100\n",
      "9/9 - 0s - loss: 0.0766 - accuracy: 0.0000e+00 - val_loss: 0.1505 - val_accuracy: 0.0000e+00\n",
      "Epoch 38/100\n",
      "9/9 - 0s - loss: 0.0552 - accuracy: 0.0000e+00 - val_loss: 0.4329 - val_accuracy: 0.0000e+00\n",
      "Epoch 39/100\n",
      "9/9 - 0s - loss: 0.0257 - accuracy: 0.0000e+00 - val_loss: 0.3825 - val_accuracy: 0.0000e+00\n",
      "Epoch 40/100\n",
      "9/9 - 0s - loss: 0.0332 - accuracy: 0.0000e+00 - val_loss: 0.9572 - val_accuracy: 0.0000e+00\n",
      "Epoch 41/100\n",
      "9/9 - 0s - loss: 0.1124 - accuracy: 0.0000e+00 - val_loss: 0.0690 - val_accuracy: 0.0000e+00\n",
      "Epoch 42/100\n",
      "9/9 - 0s - loss: 0.0854 - accuracy: 0.0000e+00 - val_loss: 0.2590 - val_accuracy: 0.0000e+00\n",
      "Epoch 43/100\n",
      "9/9 - 0s - loss: 0.0490 - accuracy: 0.0000e+00 - val_loss: 1.0503 - val_accuracy: 0.0000e+00\n",
      "Epoch 44/100\n",
      "9/9 - 0s - loss: 0.4374 - accuracy: 0.0000e+00 - val_loss: 0.4672 - val_accuracy: 0.0000e+00\n",
      "Epoch 45/100\n",
      "9/9 - 0s - loss: 0.6571 - accuracy: 0.0000e+00 - val_loss: 0.4747 - val_accuracy: 0.0000e+00\n",
      "Epoch 46/100\n",
      "9/9 - 0s - loss: 0.5964 - accuracy: 0.0000e+00 - val_loss: 0.1081 - val_accuracy: 0.0000e+00\n",
      "Epoch 47/100\n",
      "9/9 - 0s - loss: 0.1100 - accuracy: 0.0000e+00 - val_loss: 0.3739 - val_accuracy: 0.0000e+00\n",
      "Epoch 48/100\n",
      "9/9 - 0s - loss: 0.1637 - accuracy: 0.0000e+00 - val_loss: 0.5599 - val_accuracy: 0.0000e+00\n",
      "Epoch 49/100\n",
      "9/9 - 0s - loss: 0.1409 - accuracy: 0.0000e+00 - val_loss: 0.0237 - val_accuracy: 0.0000e+00\n",
      "Epoch 50/100\n",
      "9/9 - 0s - loss: 0.3810 - accuracy: 0.0000e+00 - val_loss: 0.0675 - val_accuracy: 0.0000e+00\n",
      "Epoch 51/100\n",
      "9/9 - 0s - loss: 0.1277 - accuracy: 0.0000e+00 - val_loss: 0.8378 - val_accuracy: 0.0000e+00\n",
      "Epoch 52/100\n",
      "9/9 - 0s - loss: 0.3366 - accuracy: 0.0000e+00 - val_loss: 0.1877 - val_accuracy: 0.0000e+00\n",
      "Epoch 53/100\n",
      "9/9 - 0s - loss: 0.1092 - accuracy: 0.0000e+00 - val_loss: 0.0176 - val_accuracy: 0.0000e+00\n",
      "Epoch 54/100\n",
      "9/9 - 0s - loss: 0.0969 - accuracy: 0.0000e+00 - val_loss: 0.0669 - val_accuracy: 0.0000e+00\n",
      "Epoch 55/100\n",
      "9/9 - 0s - loss: 0.3669 - accuracy: 0.0000e+00 - val_loss: 0.0309 - val_accuracy: 0.0000e+00\n",
      "Epoch 56/100\n",
      "9/9 - 0s - loss: 0.0411 - accuracy: 0.0000e+00 - val_loss: 0.7241 - val_accuracy: 0.0000e+00\n",
      "Epoch 57/100\n",
      "9/9 - 0s - loss: 0.0756 - accuracy: 0.0000e+00 - val_loss: 0.2252 - val_accuracy: 0.0000e+00\n",
      "Epoch 58/100\n",
      "9/9 - 0s - loss: 0.0550 - accuracy: 0.0000e+00 - val_loss: 0.0211 - val_accuracy: 0.0000e+00\n",
      "Epoch 59/100\n",
      "9/9 - 0s - loss: 0.2188 - accuracy: 0.0000e+00 - val_loss: 0.1735 - val_accuracy: 0.0000e+00\n",
      "Epoch 60/100\n",
      "9/9 - 0s - loss: 0.0473 - accuracy: 0.0000e+00 - val_loss: 0.0672 - val_accuracy: 0.0000e+00\n",
      "Epoch 61/100\n",
      "9/9 - 0s - loss: 0.1874 - accuracy: 0.0000e+00 - val_loss: 0.0236 - val_accuracy: 0.0000e+00\n",
      "Epoch 62/100\n",
      "9/9 - 0s - loss: 0.1141 - accuracy: 0.0000e+00 - val_loss: 0.1396 - val_accuracy: 0.0000e+00\n",
      "Epoch 63/100\n",
      "9/9 - 0s - loss: 0.0608 - accuracy: 0.0000e+00 - val_loss: 0.1617 - val_accuracy: 0.0000e+00\n",
      "Epoch 64/100\n",
      "9/9 - 0s - loss: 0.2298 - accuracy: 0.0000e+00 - val_loss: 1.8467 - val_accuracy: 0.0000e+00\n",
      "Epoch 65/100\n",
      "9/9 - 0s - loss: 0.3631 - accuracy: 0.0000e+00 - val_loss: 0.4492 - val_accuracy: 0.0000e+00\n",
      "Epoch 66/100\n",
      "9/9 - 0s - loss: 0.0317 - accuracy: 0.0000e+00 - val_loss: 0.2288 - val_accuracy: 0.0000e+00\n",
      "Epoch 67/100\n",
      "9/9 - 0s - loss: 0.0724 - accuracy: 0.0000e+00 - val_loss: 0.5478 - val_accuracy: 0.0000e+00\n",
      "Epoch 68/100\n",
      "9/9 - 0s - loss: 0.2732 - accuracy: 0.0000e+00 - val_loss: 0.5102 - val_accuracy: 0.0000e+00\n",
      "Epoch 69/100\n",
      "9/9 - 0s - loss: 0.3226 - accuracy: 0.0000e+00 - val_loss: 0.0234 - val_accuracy: 0.0000e+00\n",
      "Epoch 70/100\n",
      "9/9 - 0s - loss: 0.0652 - accuracy: 0.0000e+00 - val_loss: 0.3731 - val_accuracy: 0.0000e+00\n",
      "Epoch 71/100\n",
      "9/9 - 0s - loss: 0.1030 - accuracy: 0.0000e+00 - val_loss: 0.8023 - val_accuracy: 0.0000e+00\n",
      "Epoch 72/100\n",
      "9/9 - 0s - loss: 0.2760 - accuracy: 0.0000e+00 - val_loss: 0.0280 - val_accuracy: 0.0000e+00\n",
      "Epoch 73/100\n",
      "9/9 - 0s - loss: 0.9286 - accuracy: 0.0000e+00 - val_loss: 0.6389 - val_accuracy: 0.0000e+00\n",
      "Epoch 74/100\n",
      "9/9 - 0s - loss: 0.7735 - accuracy: 0.0000e+00 - val_loss: 0.4851 - val_accuracy: 0.0000e+00\n",
      "Epoch 75/100\n",
      "9/9 - 0s - loss: 0.9511 - accuracy: 0.0000e+00 - val_loss: 0.0269 - val_accuracy: 0.0000e+00\n",
      "Epoch 76/100\n",
      "9/9 - 0s - loss: 0.5323 - accuracy: 0.0000e+00 - val_loss: 0.4678 - val_accuracy: 0.0000e+00\n",
      "Epoch 77/100\n",
      "9/9 - 0s - loss: 0.8198 - accuracy: 0.0000e+00 - val_loss: 2.5069 - val_accuracy: 0.0000e+00\n",
      "Epoch 78/100\n",
      "9/9 - 0s - loss: 0.9427 - accuracy: 0.0000e+00 - val_loss: 0.6661 - val_accuracy: 0.0000e+00\n",
      "Epoch 79/100\n",
      "9/9 - 0s - loss: 0.4329 - accuracy: 0.0000e+00 - val_loss: 1.0533 - val_accuracy: 0.0000e+00\n",
      "Epoch 80/100\n",
      "9/9 - 0s - loss: 0.4602 - accuracy: 0.0000e+00 - val_loss: 0.1859 - val_accuracy: 0.0000e+00\n",
      "Epoch 81/100\n",
      "9/9 - 0s - loss: 0.2167 - accuracy: 0.0000e+00 - val_loss: 0.1736 - val_accuracy: 0.0000e+00\n",
      "Epoch 82/100\n",
      "9/9 - 0s - loss: 0.1868 - accuracy: 0.0000e+00 - val_loss: 0.0222 - val_accuracy: 0.0000e+00\n",
      "Epoch 83/100\n",
      "9/9 - 0s - loss: 0.4234 - accuracy: 0.0000e+00 - val_loss: 0.6425 - val_accuracy: 0.0000e+00\n",
      "Epoch 84/100\n",
      "9/9 - 0s - loss: 0.5830 - accuracy: 0.0000e+00 - val_loss: 0.8424 - val_accuracy: 0.0000e+00\n",
      "Epoch 85/100\n",
      "9/9 - 0s - loss: 0.6126 - accuracy: 0.0000e+00 - val_loss: 2.4338 - val_accuracy: 0.0000e+00\n",
      "Epoch 86/100\n",
      "9/9 - 0s - loss: 0.5383 - accuracy: 0.0000e+00 - val_loss: 1.4686 - val_accuracy: 0.0000e+00\n",
      "Epoch 87/100\n",
      "9/9 - 0s - loss: 0.2642 - accuracy: 0.0000e+00 - val_loss: 1.3516 - val_accuracy: 0.0000e+00\n",
      "Epoch 88/100\n",
      "9/9 - 0s - loss: 0.1324 - accuracy: 0.0000e+00 - val_loss: 0.0619 - val_accuracy: 0.0000e+00\n",
      "Epoch 89/100\n",
      "9/9 - 0s - loss: 0.2423 - accuracy: 0.0000e+00 - val_loss: 0.0989 - val_accuracy: 0.0000e+00\n",
      "Epoch 90/100\n",
      "9/9 - 0s - loss: 0.3884 - accuracy: 0.0000e+00 - val_loss: 0.0172 - val_accuracy: 0.0000e+00\n",
      "Epoch 91/100\n",
      "9/9 - 0s - loss: 0.4519 - accuracy: 0.0000e+00 - val_loss: 0.5749 - val_accuracy: 0.0000e+00\n",
      "Epoch 92/100\n",
      "9/9 - 0s - loss: 0.3531 - accuracy: 0.0000e+00 - val_loss: 1.6202 - val_accuracy: 0.0000e+00\n",
      "Epoch 93/100\n",
      "9/9 - 0s - loss: 0.4306 - accuracy: 0.0000e+00 - val_loss: 0.1575 - val_accuracy: 0.0000e+00\n",
      "Epoch 94/100\n",
      "9/9 - 0s - loss: 0.3907 - accuracy: 0.0000e+00 - val_loss: 0.0211 - val_accuracy: 0.0000e+00\n",
      "Epoch 95/100\n",
      "9/9 - 0s - loss: 0.4138 - accuracy: 0.0000e+00 - val_loss: 0.0287 - val_accuracy: 0.0000e+00\n",
      "Epoch 96/100\n",
      "9/9 - 0s - loss: 0.1656 - accuracy: 0.0000e+00 - val_loss: 0.0177 - val_accuracy: 0.0000e+00\n",
      "Epoch 97/100\n",
      "9/9 - 0s - loss: 0.2171 - accuracy: 0.0000e+00 - val_loss: 0.1419 - val_accuracy: 0.0000e+00\n",
      "Epoch 98/100\n",
      "9/9 - 0s - loss: 0.5723 - accuracy: 0.0000e+00 - val_loss: 0.0422 - val_accuracy: 0.0000e+00\n",
      "Epoch 99/100\n",
      "9/9 - 0s - loss: 0.2670 - accuracy: 0.0000e+00 - val_loss: 0.5943 - val_accuracy: 0.0000e+00\n",
      "Epoch 100/100\n",
      "9/9 - 0s - loss: 0.1731 - accuracy: 0.0000e+00 - val_loss: 0.6631 - val_accuracy: 0.0000e+00\n"
     ]
    },
    {
     "data": {
      "text/plain": [
       "<tensorflow.python.keras.callbacks.History at 0x14afdc970>"
      ]
     },
     "execution_count": 44,
     "metadata": {},
     "output_type": "execute_result"
    }
   ],
   "source": [
    "#compile the model\n",
    "model.compile(\n",
    "    optimizer=Adam(learning_rate=0.01), \n",
    "    loss='mse', \n",
    "    metrics=['accuracy']\n",
    ")\n",
    "#train the model\n",
    "model.fit(\n",
    "    x, \n",
    "    y, \n",
    "    batch_size=1, \n",
    "    validation_split=0.1,\n",
    "    epochs=100, \n",
    "    verbose=2\n",
    ")"
   ]
  },
  {
   "cell_type": "code",
   "execution_count": 8,
   "metadata": {},
   "outputs": [
    {
     "name": "stdout",
     "output_type": "stream",
     "text": [
      "4/4 - 0s\n"
     ]
    },
    {
     "data": {
      "text/plain": [
       "array([[20.489985],\n",
       "       [19.797985],\n",
       "       [19.20515 ],\n",
       "       [18.64771 ]], dtype=float32)"
      ]
     },
     "execution_count": 8,
     "metadata": {},
     "output_type": "execute_result"
    }
   ],
   "source": [
    "#Prep the test data\n",
    "x_test, y_test = split_sequence(test_set, n_steps)\n",
    "\n",
    "#Predict\n",
    "predictions = model.predict(\n",
    "    x_test,\n",
    "    batch_size = 1, \n",
    "    verbose = 2\n",
    ")\n",
    "predictions"
   ]
  },
  {
   "cell_type": "code",
   "execution_count": 9,
   "metadata": {},
   "outputs": [
    {
     "data": {
      "text/plain": [
       "array([[ 5.51942348, 32.415     , 23.4       ],\n",
       "       [ 5.45934105, 31.522     , 23.1       ],\n",
       "       [ 5.21938848, 30.688     , 22.7       ],\n",
       "       [ 5.14090538, 29.943     , 22.3       ],\n",
       "       [ 4.8369956 , 29.296     , 21.9       ],\n",
       "       [ 5.16729498, 28.748     , 21.5       ]])"
      ]
     },
     "execution_count": 9,
     "metadata": {},
     "output_type": "execute_result"
    }
   ],
   "source": [
    "test_set"
   ]
  },
  {
   "cell_type": "code",
   "execution_count": 47,
   "metadata": {},
   "outputs": [
    {
     "data": {
      "image/png": "[encoded data removed]",
      "text/plain": [
       "<Figure size 576x432 with 1 Axes>"
      ]
     },
     "metadata": {},
     "output_type": "display_data"
    }
   ],
   "source": [
    "# Visualising the results\n",
    "\n",
    "plt.plot(test_years,predictions, color = 'red', label = 'Predicted Infant Mortality Rate')\n",
    "plt.plot(test_years,y_test, color = 'blue', label = 'Real Infant Mortality Rate')\n",
    "plt.legend()\n",
    "plt.xlabel('Year')\n",
    "plt.ylabel('Mortality Rate')\n",
    "plt.title(title)\n",
    "plt.ylim(0, 50) #used to fit the graph to give a better visual \n",
    "plt.show()\n",
    "sns.set(rc={'figure.figsize':(8,6)})"
   ]
  },
  {
   "cell_type": "markdown",
   "metadata": {},
   "source": [
    "            -------------Counterfactual Analysis using Dice-------------"
   ]
  },
  {
   "cell_type": "code",
   "execution_count": 12,
   "metadata": {},
   "outputs": [],
   "source": [
    "import dice_ml\n"
   ]
  },
  {
   "cell_type": "code",
   "execution_count": 23,
   "metadata": {},
   "outputs": [],
   "source": [
    "# supress deprecation warnings from TF\n",
    "tf.compat.v1.logging.set_verbosity(tf.compat.v1.logging.ERROR)\n",
    "\n",
    "backend = 'TF'+tf.__version__[0]  # TF1"
   ]
  },
  {
   "cell_type": "code",
   "execution_count": 37,
   "metadata": {},
   "outputs": [],
   "source": [
    "# Step 1: dice_ml.Data\n",
    "training_set = df.iloc[:13, 1:4]\n",
    "d = dice_ml.Data(dataframe=training_set, continuous_features=['he'], outcome_name='brt')"
   ]
  },
  {
   "cell_type": "code",
   "execution_count": 45,
   "metadata": {},
   "outputs": [],
   "source": [
    "# Step 2: dice_ml.Model\n",
    "m = dice_ml.Model(model_path=model, backend=backend)"
   ]
  },
  {
   "cell_type": "code",
   "execution_count": 46,
   "metadata": {},
   "outputs": [
    {
     "ename": "TypeError",
     "evalue": "expected str, bytes or os.PathLike object, not Sequential",
     "output_type": "error",
     "traceback": [
      "\u001b[0;31m---------------------------------------------------------------------------\u001b[0m",
      "\u001b[0;31mTypeError\u001b[0m                                 Traceback (most recent call last)",
      "\u001b[0;32m<ipython-input-46-a7b54fed971f>\u001b[0m in \u001b[0;36m<module>\u001b[0;34m\u001b[0m\n\u001b[1;32m      1\u001b[0m \u001b[0;31m# Step 3: initiate DiCE\u001b[0m\u001b[0;34m\u001b[0m\u001b[0;34m\u001b[0m\u001b[0;34m\u001b[0m\u001b[0m\n\u001b[0;32m----> 2\u001b[0;31m \u001b[0mexp\u001b[0m \u001b[0;34m=\u001b[0m \u001b[0mdice_ml\u001b[0m\u001b[0;34m.\u001b[0m\u001b[0mDice\u001b[0m\u001b[0;34m(\u001b[0m\u001b[0md\u001b[0m\u001b[0;34m,\u001b[0m \u001b[0mm\u001b[0m\u001b[0;34m)\u001b[0m\u001b[0;34m\u001b[0m\u001b[0;34m\u001b[0m\u001b[0m\n\u001b[0m",
      "\u001b[0;32m~/Library/Python/3.8/lib/python/site-packages/dice_ml/dice.py\u001b[0m in \u001b[0;36m__init__\u001b[0;34m(self, data_interface, model_interface, method, **kwargs)\u001b[0m\n\u001b[1;32m     17\u001b[0m         \u001b[0;34m:\u001b[0m\u001b[0mparam\u001b[0m \u001b[0mmethod\u001b[0m\u001b[0;34m:\u001b[0m \u001b[0mName\u001b[0m \u001b[0mof\u001b[0m \u001b[0mthe\u001b[0m \u001b[0mmethod\u001b[0m \u001b[0mto\u001b[0m \u001b[0muse\u001b[0m \u001b[0;32mfor\u001b[0m \u001b[0mgenerating\u001b[0m \u001b[0mcounterfactuals\u001b[0m\u001b[0;34m\u001b[0m\u001b[0;34m\u001b[0m\u001b[0m\n\u001b[1;32m     18\u001b[0m         \"\"\"\n\u001b[0;32m---> 19\u001b[0;31m         \u001b[0mself\u001b[0m\u001b[0;34m.\u001b[0m\u001b[0mdecide_implementation_type\u001b[0m\u001b[0;34m(\u001b[0m\u001b[0mdata_interface\u001b[0m\u001b[0;34m,\u001b[0m \u001b[0mmodel_interface\u001b[0m\u001b[0;34m,\u001b[0m \u001b[0mmethod\u001b[0m\u001b[0;34m,\u001b[0m \u001b[0;34m**\u001b[0m\u001b[0mkwargs\u001b[0m\u001b[0;34m)\u001b[0m\u001b[0;34m\u001b[0m\u001b[0;34m\u001b[0m\u001b[0m\n\u001b[0m\u001b[1;32m     20\u001b[0m \u001b[0;34m\u001b[0m\u001b[0m\n\u001b[1;32m     21\u001b[0m     \u001b[0;32mdef\u001b[0m \u001b[0mdecide_implementation_type\u001b[0m\u001b[0;34m(\u001b[0m\u001b[0mself\u001b[0m\u001b[0;34m,\u001b[0m \u001b[0mdata_interface\u001b[0m\u001b[0;34m,\u001b[0m \u001b[0mmodel_interface\u001b[0m\u001b[0;34m,\u001b[0m \u001b[0mmethod\u001b[0m\u001b[0;34m,\u001b[0m \u001b[0;34m**\u001b[0m\u001b[0mkwargs\u001b[0m\u001b[0;34m)\u001b[0m\u001b[0;34m:\u001b[0m\u001b[0;34m\u001b[0m\u001b[0;34m\u001b[0m\u001b[0m\n",
      "\u001b[0;32m~/Library/Python/3.8/lib/python/site-packages/dice_ml/dice.py\u001b[0m in \u001b[0;36mdecide_implementation_type\u001b[0;34m(self, data_interface, model_interface, method, **kwargs)\u001b[0m\n\u001b[1;32m     22\u001b[0m         \u001b[0;34m\"\"\"Decides DiCE implementation type.\"\"\"\u001b[0m\u001b[0;34m\u001b[0m\u001b[0;34m\u001b[0m\u001b[0m\n\u001b[1;32m     23\u001b[0m         \u001b[0mself\u001b[0m\u001b[0;34m.\u001b[0m\u001b[0m__class__\u001b[0m \u001b[0;34m=\u001b[0m \u001b[0mdecide\u001b[0m\u001b[0;34m(\u001b[0m\u001b[0mmodel_interface\u001b[0m\u001b[0;34m,\u001b[0m \u001b[0mmethod\u001b[0m\u001b[0;34m)\u001b[0m\u001b[0;34m\u001b[0m\u001b[0;34m\u001b[0m\u001b[0m\n\u001b[0;32m---> 24\u001b[0;31m         \u001b[0mself\u001b[0m\u001b[0;34m.\u001b[0m\u001b[0m__init__\u001b[0m\u001b[0;34m(\u001b[0m\u001b[0mdata_interface\u001b[0m\u001b[0;34m,\u001b[0m \u001b[0mmodel_interface\u001b[0m\u001b[0;34m,\u001b[0m \u001b[0;34m**\u001b[0m\u001b[0mkwargs\u001b[0m\u001b[0;34m)\u001b[0m\u001b[0;34m\u001b[0m\u001b[0;34m\u001b[0m\u001b[0m\n\u001b[0m\u001b[1;32m     25\u001b[0m \u001b[0;34m\u001b[0m\u001b[0m\n\u001b[1;32m     26\u001b[0m \u001b[0;34m\u001b[0m\u001b[0m\n",
      "\u001b[0;32m~/Library/Python/3.8/lib/python/site-packages/dice_ml/explainer_interfaces/dice_tensorflow2.py\u001b[0m in \u001b[0;36m__init__\u001b[0;34m(self, data_interface, model_interface)\u001b[0m\n\u001b[1;32m     27\u001b[0m         \u001b[0;31m# initializing model related variables\u001b[0m\u001b[0;34m\u001b[0m\u001b[0;34m\u001b[0m\u001b[0;34m\u001b[0m\u001b[0m\n\u001b[1;32m     28\u001b[0m         \u001b[0mself\u001b[0m\u001b[0;34m.\u001b[0m\u001b[0mmodel\u001b[0m \u001b[0;34m=\u001b[0m \u001b[0mmodel_interface\u001b[0m\u001b[0;34m\u001b[0m\u001b[0;34m\u001b[0m\u001b[0m\n\u001b[0;32m---> 29\u001b[0;31m         \u001b[0mself\u001b[0m\u001b[0;34m.\u001b[0m\u001b[0mmodel\u001b[0m\u001b[0;34m.\u001b[0m\u001b[0mload_model\u001b[0m\u001b[0;34m(\u001b[0m\u001b[0;34m)\u001b[0m  \u001b[0;31m# loading trained model\u001b[0m\u001b[0;34m\u001b[0m\u001b[0;34m\u001b[0m\u001b[0m\n\u001b[0m\u001b[1;32m     30\u001b[0m         \u001b[0;31m# TODO: this error is probably too big - need to change it.\u001b[0m\u001b[0;34m\u001b[0m\u001b[0;34m\u001b[0m\u001b[0;34m\u001b[0m\u001b[0m\n\u001b[1;32m     31\u001b[0m         \u001b[0;32mif\u001b[0m \u001b[0mself\u001b[0m\u001b[0;34m.\u001b[0m\u001b[0mmodel\u001b[0m\u001b[0;34m.\u001b[0m\u001b[0mtransformer\u001b[0m\u001b[0;34m.\u001b[0m\u001b[0mfunc\u001b[0m \u001b[0;32mis\u001b[0m \u001b[0;32mnot\u001b[0m \u001b[0;32mNone\u001b[0m\u001b[0;34m:\u001b[0m\u001b[0;34m\u001b[0m\u001b[0;34m\u001b[0m\u001b[0m\n",
      "\u001b[0;32m~/Library/Python/3.8/lib/python/site-packages/dice_ml/model_interfaces/keras_tensorflow_model.py\u001b[0m in \u001b[0;36mload_model\u001b[0;34m(self)\u001b[0m\n\u001b[1;32m     23\u001b[0m     \u001b[0;32mdef\u001b[0m \u001b[0mload_model\u001b[0m\u001b[0;34m(\u001b[0m\u001b[0mself\u001b[0m\u001b[0;34m)\u001b[0m\u001b[0;34m:\u001b[0m\u001b[0;34m\u001b[0m\u001b[0;34m\u001b[0m\u001b[0m\n\u001b[1;32m     24\u001b[0m         \u001b[0;32mif\u001b[0m \u001b[0mself\u001b[0m\u001b[0;34m.\u001b[0m\u001b[0mmodel_path\u001b[0m \u001b[0;34m!=\u001b[0m \u001b[0;34m''\u001b[0m\u001b[0;34m:\u001b[0m\u001b[0;34m\u001b[0m\u001b[0;34m\u001b[0m\u001b[0m\n\u001b[0;32m---> 25\u001b[0;31m             \u001b[0mself\u001b[0m\u001b[0;34m.\u001b[0m\u001b[0mmodel\u001b[0m \u001b[0;34m=\u001b[0m \u001b[0mkeras\u001b[0m\u001b[0;34m.\u001b[0m\u001b[0mmodels\u001b[0m\u001b[0;34m.\u001b[0m\u001b[0mload_model\u001b[0m\u001b[0;34m(\u001b[0m\u001b[0mself\u001b[0m\u001b[0;34m.\u001b[0m\u001b[0mmodel_path\u001b[0m\u001b[0;34m)\u001b[0m\u001b[0;34m\u001b[0m\u001b[0;34m\u001b[0m\u001b[0m\n\u001b[0m\u001b[1;32m     26\u001b[0m \u001b[0;34m\u001b[0m\u001b[0m\n\u001b[1;32m     27\u001b[0m     \u001b[0;32mdef\u001b[0m \u001b[0mget_output\u001b[0m\u001b[0;34m(\u001b[0m\u001b[0mself\u001b[0m\u001b[0;34m,\u001b[0m \u001b[0minput_tensor\u001b[0m\u001b[0;34m,\u001b[0m \u001b[0mtraining\u001b[0m\u001b[0;34m=\u001b[0m\u001b[0;32mFalse\u001b[0m\u001b[0;34m,\u001b[0m \u001b[0mtransform_data\u001b[0m\u001b[0;34m=\u001b[0m\u001b[0;32mFalse\u001b[0m\u001b[0;34m)\u001b[0m\u001b[0;34m:\u001b[0m\u001b[0;34m\u001b[0m\u001b[0;34m\u001b[0m\u001b[0m\n",
      "\u001b[0;32m~/Library/Python/3.8/lib/python/site-packages/tensorflow/python/keras/saving/save.py\u001b[0m in \u001b[0;36mload_model\u001b[0;34m(filepath, custom_objects, compile, options)\u001b[0m\n\u001b[1;32m    203\u001b[0m     \u001b[0;32mwith\u001b[0m \u001b[0mload_context\u001b[0m\u001b[0;34m.\u001b[0m\u001b[0mload_context\u001b[0m\u001b[0;34m(\u001b[0m\u001b[0moptions\u001b[0m\u001b[0;34m)\u001b[0m\u001b[0;34m:\u001b[0m\u001b[0;34m\u001b[0m\u001b[0;34m\u001b[0m\u001b[0m\n\u001b[1;32m    204\u001b[0m       if (h5py is not None and\n\u001b[0;32m--> 205\u001b[0;31m           (isinstance(filepath, h5py.File) or h5py.is_hdf5(filepath))):\n\u001b[0m\u001b[1;32m    206\u001b[0m         return hdf5_format.load_model_from_hdf5(filepath, custom_objects,\n\u001b[1;32m    207\u001b[0m                                                 compile)\n",
      "\u001b[0;32m~/Library/Python/3.8/lib/python/site-packages/h5py/_hl/base.py\u001b[0m in \u001b[0;36mis_hdf5\u001b[0;34m(fname)\u001b[0m\n\u001b[1;32m     39\u001b[0m     \u001b[0;34m\"\"\" Determine if a file is valid HDF5 (False if it doesn't exist). \"\"\"\u001b[0m\u001b[0;34m\u001b[0m\u001b[0;34m\u001b[0m\u001b[0m\n\u001b[1;32m     40\u001b[0m     \u001b[0;32mwith\u001b[0m \u001b[0mphil\u001b[0m\u001b[0;34m:\u001b[0m\u001b[0;34m\u001b[0m\u001b[0;34m\u001b[0m\u001b[0m\n\u001b[0;32m---> 41\u001b[0;31m         \u001b[0mfname\u001b[0m \u001b[0;34m=\u001b[0m \u001b[0mos\u001b[0m\u001b[0;34m.\u001b[0m\u001b[0mpath\u001b[0m\u001b[0;34m.\u001b[0m\u001b[0mabspath\u001b[0m\u001b[0;34m(\u001b[0m\u001b[0mfspath\u001b[0m\u001b[0;34m(\u001b[0m\u001b[0mfname\u001b[0m\u001b[0;34m)\u001b[0m\u001b[0;34m)\u001b[0m\u001b[0;34m\u001b[0m\u001b[0;34m\u001b[0m\u001b[0m\n\u001b[0m\u001b[1;32m     42\u001b[0m \u001b[0;34m\u001b[0m\u001b[0m\n\u001b[1;32m     43\u001b[0m         \u001b[0;32mif\u001b[0m \u001b[0mos\u001b[0m\u001b[0;34m.\u001b[0m\u001b[0mpath\u001b[0m\u001b[0;34m.\u001b[0m\u001b[0misfile\u001b[0m\u001b[0;34m(\u001b[0m\u001b[0mfname\u001b[0m\u001b[0;34m)\u001b[0m\u001b[0;34m:\u001b[0m\u001b[0;34m\u001b[0m\u001b[0;34m\u001b[0m\u001b[0m\n",
      "\u001b[0;31mTypeError\u001b[0m: expected str, bytes or os.PathLike object, not Sequential"
     ]
    }
   ],
   "source": [
    "# Step 3: initiate DiCE\n",
    "exp = dice_ml.Dice(d, m)"
   ]
  },
  {
   "cell_type": "code",
   "execution_count": null,
   "metadata": {},
   "outputs": [],
   "source": []
  }
 ],
 "metadata": {
  "kernelspec": {
   "display_name": "Python 3",
   "language": "python",
   "name": "python3"
  },
  "language_info": {
   "codemirror_mode": {
    "name": "ipython",
    "version": 3
   },
   "file_extension": ".py",
   "mimetype": "text/x-python",
   "name": "python",
   "nbconvert_exporter": "python",
   "pygments_lexer": "ipython3",
   "version": "3.8.2"
  }
 },
 "nbformat": 4,
 "nbformat_minor": 4
}
