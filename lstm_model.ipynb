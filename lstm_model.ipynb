{
 "cells": [
  {
   "cell_type": "code",
   "execution_count": 15,
   "metadata": {},
   "outputs": [],
   "source": [
    "import numpy as np\n",
    "import pandas as pd\n",
    "from numpy import array\n",
    "from random import randint\n",
    "from sklearn.utils import shuffle\n",
    "from sklearn.preprocessing import MinMaxScaler\n",
    "import tensorflow as tf\n",
    "from tensorflow import keras\n",
    "from tensorflow.keras.models import Sequential\n",
    "from tensorflow.keras.layers import Activation, Dense, LSTM\n",
    "from tensorflow.keras.optimizers import Adam\n",
    "from tensorflow.keras.metrics import categorical_crossentropy\n",
    "%matplotlib inline\n",
    "from sklearn.metrics import confusion_matrix\n",
    "import itertools\n",
    "import matplotlib.pyplot as plt\n",
    "import seaborn as sns\n",
    "import dice_ml\n"
   ]
  },
  {
   "cell_type": "code",
   "execution_count": 16,
   "metadata": {},
   "outputs": [
    {
     "name": "stdout",
     "output_type": "stream",
     "text": [
      "<class 'pandas.core.frame.DataFrame'>\n",
      "RangeIndex: 60 entries, 0 to 59\n",
      "Data columns (total 2 columns):\n",
      " #   Column  Non-Null Count  Dtype  \n",
      "---  ------  --------------  -----  \n",
      " 0   year    60 non-null     int64  \n",
      " 1   value   60 non-null     float64\n",
      "dtypes: float64(1), int64(1)\n",
      "memory usage: 1.1 KB\n"
     ]
    }
   ],
   "source": [
    "#process data\n",
    "#read from csv\n",
    "df=pd.read_csv('data/univariate/kenya/ken_brt_lstm.csv')\n",
    "label = 'Birth Rate'\n",
    "title = 'Birth Rate crude(per 1000 people)'\n",
    "\n",
    "df.info()"
   ]
  },
  {
   "cell_type": "code",
   "execution_count": 17,
   "metadata": {},
   "outputs": [
    {
     "data": {
      "image/png": "[encoded data removed]",
      "text/plain": [
       "<Figure size 432x288 with 1 Axes>"
      ]
     },
     "metadata": {
      "needs_background": "light"
     },
     "output_type": "display_data"
    }
   ],
   "source": [
    "#visualize csv data\n",
    "plt.plot(df['year'],df['value'])\n",
    "plt.xlabel('Year')\n",
    "plt.ylabel(label)\n",
    "plt.title(title)\n",
    "plt.show()"
   ]
  },
  {
   "cell_type": "code",
   "execution_count": 18,
   "metadata": {},
   "outputs": [],
   "source": [
    "#separate data into training and test datasets as arrays\n",
    "training_set = df.iloc[:40, 1:2].values\n",
    "test_set = df.iloc[40:, 1:2].values\n",
    "test_years=df.loc[43:68, 'year'].values\n",
    "test_years = np.reshape(test_years, (17,1))\n",
    "\n",
    "#normalize the data? not used yet.....\n",
    "scaler = MinMaxScaler(feature_range = (0,1))\n",
    "scaled_train_samples = scaler.fit_transform(training_set.reshape(-1,1))\n",
    "\n",
    "#timesteps\n",
    "n_steps = 3 \n",
    "\n",
    "#features\n",
    "n_features = 1\n"
   ]
  },
  {
   "cell_type": "code",
   "execution_count": 19,
   "metadata": {},
   "outputs": [],
   "source": [
    "#split the data set into time steps that predict the next step: X for samples, y for labels (actual output)\n",
    "\n",
    "def split_sequence(sequence, n_steps):\n",
    "    print(len(sequence))\n",
    "    x, y = list(), list()\n",
    "    for i in range(len(sequence)):\n",
    "        # find the end of this pattern\n",
    "        end_ix = i + n_steps\n",
    "        # check if we are beyond the sequence\n",
    "        if end_ix > len(sequence)-1:\n",
    "            break\n",
    "        # gather input and output parts of the pattern\n",
    "        seq_x, seq_y = sequence[i:end_ix], sequence[end_ix]\n",
    "        x.append(seq_x)\n",
    "        y.append(seq_y)\n",
    "    return array(x), array(y)"
   ]
  },
  {
   "cell_type": "code",
   "execution_count": 20,
   "metadata": {},
   "outputs": [
    {
     "name": "stdout",
     "output_type": "stream",
     "text": [
      "40\n"
     ]
    },
    {
     "data": {
      "text/plain": [
       "(37, 3, 1)"
      ]
     },
     "execution_count": 20,
     "metadata": {},
     "output_type": "execute_result"
    }
   ],
   "source": [
    "#prepare the data for training\n",
    "#split into samples and labels\n",
    "x, y = split_sequence(training_set, n_steps)\n",
    "x.shape"
   ]
  },
  {
   "cell_type": "code",
   "execution_count": 21,
   "metadata": {},
   "outputs": [
    {
     "name": "stdout",
     "output_type": "stream",
     "text": [
      "Model: \"sequential\"\n",
      "_________________________________________________________________\n",
      "Layer (type)                 Output Shape              Param #   \n",
      "=================================================================\n",
      "lstm (LSTM)                  (None, 3, 50)             10400     \n",
      "_________________________________________________________________\n",
      "lstm_1 (LSTM)                (None, 3, 50)             20200     \n",
      "_________________________________________________________________\n",
      "lstm_2 (LSTM)                (None, 50)                20200     \n",
      "_________________________________________________________________\n",
      "dense (Dense)                (None, 1)                 51        \n",
      "=================================================================\n",
      "Total params: 50,851\n",
      "Trainable params: 50,851\n",
      "Non-trainable params: 0\n",
      "_________________________________________________________________\n"
     ]
    }
   ],
   "source": [
    "#build the model\n",
    "#activation: relu to get the max btwn 0 and the input, default activation on the output layer (sigmoid), Dense on output\n",
    "\n",
    "model = Sequential([\n",
    "    LSTM(units=50, input_shape=(n_steps, n_features), activation='relu',return_sequences=True),\n",
    "    LSTM(50, activation='relu',return_sequences=True),\n",
    "    LSTM(50, activation='relu'),\n",
    "    Dense(units=1)\n",
    "])\n",
    "\n",
    "model.summary()"
   ]
  },
  {
   "cell_type": "code",
   "execution_count": 22,
   "metadata": {},
   "outputs": [],
   "source": [
    "#compile the model\n",
    "model.compile(\n",
    "    optimizer=Adam(learning_rate=0.01), \n",
    "    loss='mse', \n",
    "    metrics=['accuracy']\n",
    ")"
   ]
  },
  {
   "cell_type": "code",
   "execution_count": 23,
   "metadata": {
    "collapsed": true,
    "jupyter": {
     "outputs_hidden": true
    }
   },
   "outputs": [
    {
     "name": "stdout",
     "output_type": "stream",
     "text": [
      "Epoch 1/100\n",
      "33/33 - 2s - loss: 414.0503 - accuracy: 0.0000e+00 - val_loss: 4.3305 - val_accuracy: 0.0000e+00\n",
      "Epoch 2/100\n",
      "33/33 - 0s - loss: 9.5770 - accuracy: 0.0000e+00 - val_loss: 1.9690 - val_accuracy: 0.0000e+00\n",
      "Epoch 3/100\n",
      "33/33 - 0s - loss: 1.1840 - accuracy: 0.0000e+00 - val_loss: 0.9177 - val_accuracy: 0.0000e+00\n",
      "Epoch 4/100\n",
      "33/33 - 0s - loss: 0.8934 - accuracy: 0.0000e+00 - val_loss: 1.0843 - val_accuracy: 0.0000e+00\n",
      "Epoch 5/100\n",
      "33/33 - 0s - loss: 1.6165 - accuracy: 0.0000e+00 - val_loss: 0.5623 - val_accuracy: 0.0000e+00\n",
      "Epoch 6/100\n",
      "33/33 - 0s - loss: 1.4281 - accuracy: 0.0000e+00 - val_loss: 1.4783 - val_accuracy: 0.0000e+00\n",
      "Epoch 7/100\n",
      "33/33 - 0s - loss: 1.7538 - accuracy: 0.0000e+00 - val_loss: 0.1056 - val_accuracy: 0.0000e+00\n",
      "Epoch 8/100\n",
      "33/33 - 0s - loss: 1.4275 - accuracy: 0.0000e+00 - val_loss: 6.5603 - val_accuracy: 0.0000e+00\n",
      "Epoch 9/100\n",
      "33/33 - 0s - loss: 1.0563 - accuracy: 0.0000e+00 - val_loss: 0.0998 - val_accuracy: 0.0000e+00\n",
      "Epoch 10/100\n",
      "33/33 - 0s - loss: 1.3716 - accuracy: 0.0000e+00 - val_loss: 5.5301 - val_accuracy: 0.0000e+00\n",
      "Epoch 11/100\n",
      "33/33 - 0s - loss: 1.9861 - accuracy: 0.0000e+00 - val_loss: 3.5962 - val_accuracy: 0.0000e+00\n",
      "Epoch 12/100\n",
      "33/33 - 0s - loss: 1.7347 - accuracy: 0.0000e+00 - val_loss: 0.0348 - val_accuracy: 0.0000e+00\n",
      "Epoch 13/100\n",
      "33/33 - 0s - loss: 2.9744 - accuracy: 0.0000e+00 - val_loss: 0.8483 - val_accuracy: 0.0000e+00\n",
      "Epoch 14/100\n",
      "33/33 - 0s - loss: 1.6184 - accuracy: 0.0000e+00 - val_loss: 4.0530 - val_accuracy: 0.0000e+00\n",
      "Epoch 15/100\n",
      "33/33 - 0s - loss: 2.0113 - accuracy: 0.0000e+00 - val_loss: 2.6311 - val_accuracy: 0.0000e+00\n",
      "Epoch 16/100\n",
      "33/33 - 0s - loss: 1.0668 - accuracy: 0.0000e+00 - val_loss: 2.6727 - val_accuracy: 0.0000e+00\n",
      "Epoch 17/100\n",
      "33/33 - 0s - loss: 1.6953 - accuracy: 0.0000e+00 - val_loss: 2.3217 - val_accuracy: 0.0000e+00\n",
      "Epoch 18/100\n",
      "33/33 - 0s - loss: 1.2654 - accuracy: 0.0000e+00 - val_loss: 7.7086 - val_accuracy: 0.0000e+00\n",
      "Epoch 19/100\n",
      "33/33 - 0s - loss: 2.0390 - accuracy: 0.0000e+00 - val_loss: 5.1580 - val_accuracy: 0.0000e+00\n",
      "Epoch 20/100\n",
      "33/33 - 0s - loss: 2.6284 - accuracy: 0.0000e+00 - val_loss: 6.1378 - val_accuracy: 0.0000e+00\n",
      "Epoch 21/100\n",
      "33/33 - 0s - loss: 2.0955 - accuracy: 0.0000e+00 - val_loss: 6.2077 - val_accuracy: 0.0000e+00\n",
      "Epoch 22/100\n",
      "33/33 - 0s - loss: 1.5872 - accuracy: 0.0000e+00 - val_loss: 0.2338 - val_accuracy: 0.0000e+00\n",
      "Epoch 23/100\n",
      "33/33 - 0s - loss: 1.0318 - accuracy: 0.0000e+00 - val_loss: 0.0214 - val_accuracy: 0.0000e+00\n",
      "Epoch 24/100\n",
      "33/33 - 0s - loss: 4.2792 - accuracy: 0.0000e+00 - val_loss: 1.8878 - val_accuracy: 0.0000e+00\n",
      "Epoch 25/100\n",
      "33/33 - 0s - loss: 3.1357 - accuracy: 0.0000e+00 - val_loss: 19.3663 - val_accuracy: 0.0000e+00\n",
      "Epoch 26/100\n",
      "33/33 - 0s - loss: 1.9233 - accuracy: 0.0000e+00 - val_loss: 14.2701 - val_accuracy: 0.0000e+00\n",
      "Epoch 27/100\n",
      "33/33 - 0s - loss: 7.0751 - accuracy: 0.0000e+00 - val_loss: 0.5165 - val_accuracy: 0.0000e+00\n",
      "Epoch 28/100\n",
      "33/33 - 0s - loss: 5.2142 - accuracy: 0.0000e+00 - val_loss: 0.7769 - val_accuracy: 0.0000e+00\n",
      "Epoch 29/100\n",
      "33/33 - 0s - loss: 5.2106 - accuracy: 0.0000e+00 - val_loss: 11.6006 - val_accuracy: 0.0000e+00\n",
      "Epoch 30/100\n",
      "33/33 - 0s - loss: 1.9269 - accuracy: 0.0000e+00 - val_loss: 1.5826 - val_accuracy: 0.0000e+00\n",
      "Epoch 31/100\n",
      "33/33 - 0s - loss: 3.2695 - accuracy: 0.0000e+00 - val_loss: 0.0322 - val_accuracy: 0.0000e+00\n",
      "Epoch 32/100\n",
      "33/33 - 0s - loss: 3.8841 - accuracy: 0.0000e+00 - val_loss: 2.6821 - val_accuracy: 0.0000e+00\n",
      "Epoch 33/100\n",
      "33/33 - 0s - loss: 1.1800 - accuracy: 0.0000e+00 - val_loss: 3.1627 - val_accuracy: 0.0000e+00\n",
      "Epoch 34/100\n",
      "33/33 - 0s - loss: 1.6041 - accuracy: 0.0000e+00 - val_loss: 6.6454 - val_accuracy: 0.0000e+00\n",
      "Epoch 35/100\n",
      "33/33 - 0s - loss: 2.0567 - accuracy: 0.0000e+00 - val_loss: 13.2094 - val_accuracy: 0.0000e+00\n",
      "Epoch 36/100\n",
      "33/33 - 0s - loss: 4.3617 - accuracy: 0.0000e+00 - val_loss: 6.4255 - val_accuracy: 0.0000e+00\n",
      "Epoch 37/100\n",
      "33/33 - 0s - loss: 1.8242 - accuracy: 0.0000e+00 - val_loss: 8.3587 - val_accuracy: 0.0000e+00\n",
      "Epoch 38/100\n",
      "33/33 - 0s - loss: 2.7250 - accuracy: 0.0000e+00 - val_loss: 0.1037 - val_accuracy: 0.0000e+00\n",
      "Epoch 39/100\n",
      "33/33 - 0s - loss: 1.0027 - accuracy: 0.0000e+00 - val_loss: 4.2582 - val_accuracy: 0.0000e+00\n",
      "Epoch 40/100\n",
      "33/33 - 0s - loss: 2.5095 - accuracy: 0.0000e+00 - val_loss: 0.1038 - val_accuracy: 0.0000e+00\n",
      "Epoch 41/100\n",
      "33/33 - 0s - loss: 2.5758 - accuracy: 0.0000e+00 - val_loss: 7.2990 - val_accuracy: 0.0000e+00\n",
      "Epoch 42/100\n",
      "33/33 - 0s - loss: 2.4563 - accuracy: 0.0000e+00 - val_loss: 5.8042 - val_accuracy: 0.0000e+00\n",
      "Epoch 43/100\n",
      "33/33 - 0s - loss: 1.8784 - accuracy: 0.0000e+00 - val_loss: 13.5321 - val_accuracy: 0.0000e+00\n",
      "Epoch 44/100\n",
      "33/33 - 0s - loss: 3.6478 - accuracy: 0.0000e+00 - val_loss: 3.0623 - val_accuracy: 0.0000e+00\n",
      "Epoch 45/100\n",
      "33/33 - 0s - loss: 1.8536 - accuracy: 0.0000e+00 - val_loss: 1.8450 - val_accuracy: 0.0000e+00\n",
      "Epoch 46/100\n",
      "33/33 - 0s - loss: 1.1161 - accuracy: 0.0000e+00 - val_loss: 2.7029 - val_accuracy: 0.0000e+00\n",
      "Epoch 47/100\n",
      "33/33 - 0s - loss: 1.5448 - accuracy: 0.0000e+00 - val_loss: 1.9941 - val_accuracy: 0.0000e+00\n",
      "Epoch 48/100\n",
      "33/33 - 0s - loss: 2.2593 - accuracy: 0.0000e+00 - val_loss: 1.2657 - val_accuracy: 0.0000e+00\n",
      "Epoch 49/100\n",
      "33/33 - 0s - loss: 2.0576 - accuracy: 0.0000e+00 - val_loss: 2.3739 - val_accuracy: 0.0000e+00\n",
      "Epoch 50/100\n",
      "33/33 - 0s - loss: 1.7269 - accuracy: 0.0000e+00 - val_loss: 0.8881 - val_accuracy: 0.0000e+00\n",
      "Epoch 51/100\n",
      "33/33 - 0s - loss: 6.5923 - accuracy: 0.0000e+00 - val_loss: 0.0174 - val_accuracy: 0.0000e+00\n",
      "Epoch 52/100\n",
      "33/33 - 0s - loss: 2.3354 - accuracy: 0.0000e+00 - val_loss: 8.5463 - val_accuracy: 0.0000e+00\n",
      "Epoch 53/100\n",
      "33/33 - 0s - loss: 2.1905 - accuracy: 0.0000e+00 - val_loss: 5.5913 - val_accuracy: 0.0000e+00\n",
      "Epoch 54/100\n",
      "33/33 - 0s - loss: 1.2211 - accuracy: 0.0000e+00 - val_loss: 2.4218 - val_accuracy: 0.0000e+00\n",
      "Epoch 55/100\n",
      "33/33 - 0s - loss: 1.2366 - accuracy: 0.0000e+00 - val_loss: 21.3438 - val_accuracy: 0.0000e+00\n",
      "Epoch 56/100\n",
      "33/33 - 0s - loss: 3.2327 - accuracy: 0.0000e+00 - val_loss: 8.8294 - val_accuracy: 0.0000e+00\n",
      "Epoch 57/100\n",
      "33/33 - 0s - loss: 1.4279 - accuracy: 0.0000e+00 - val_loss: 12.2191 - val_accuracy: 0.0000e+00\n",
      "Epoch 58/100\n",
      "33/33 - 0s - loss: 3.4561 - accuracy: 0.0000e+00 - val_loss: 5.8050 - val_accuracy: 0.0000e+00\n",
      "Epoch 59/100\n",
      "33/33 - 0s - loss: 3.9735 - accuracy: 0.0000e+00 - val_loss: 23.2769 - val_accuracy: 0.0000e+00\n",
      "Epoch 60/100\n",
      "33/33 - 0s - loss: 7.6584 - accuracy: 0.0000e+00 - val_loss: 3.7886 - val_accuracy: 0.0000e+00\n",
      "Epoch 61/100\n",
      "33/33 - 0s - loss: 3.3571 - accuracy: 0.0000e+00 - val_loss: 6.1201 - val_accuracy: 0.0000e+00\n",
      "Epoch 62/100\n",
      "33/33 - 0s - loss: 2.7295 - accuracy: 0.0000e+00 - val_loss: 11.9095 - val_accuracy: 0.0000e+00\n",
      "Epoch 63/100\n",
      "33/33 - 0s - loss: 4.4200 - accuracy: 0.0000e+00 - val_loss: 11.5302 - val_accuracy: 0.0000e+00\n",
      "Epoch 64/100\n",
      "33/33 - 0s - loss: 4.2369 - accuracy: 0.0000e+00 - val_loss: 3.2007 - val_accuracy: 0.0000e+00\n",
      "Epoch 65/100\n",
      "33/33 - 0s - loss: 1.5154 - accuracy: 0.0000e+00 - val_loss: 0.0157 - val_accuracy: 0.0000e+00\n",
      "Epoch 66/100\n",
      "33/33 - 0s - loss: 4.7213 - accuracy: 0.0000e+00 - val_loss: 0.2247 - val_accuracy: 0.0000e+00\n",
      "Epoch 67/100\n",
      "33/33 - 0s - loss: 1.8281 - accuracy: 0.0000e+00 - val_loss: 2.4685 - val_accuracy: 0.0000e+00\n",
      "Epoch 68/100\n",
      "33/33 - 0s - loss: 3.4782 - accuracy: 0.0000e+00 - val_loss: 1.3253 - val_accuracy: 0.0000e+00\n",
      "Epoch 69/100\n",
      "33/33 - 0s - loss: 1.8445 - accuracy: 0.0000e+00 - val_loss: 1.9047 - val_accuracy: 0.0000e+00\n",
      "Epoch 70/100\n",
      "33/33 - 0s - loss: 1.5976 - accuracy: 0.0000e+00 - val_loss: 0.6629 - val_accuracy: 0.0000e+00\n",
      "Epoch 71/100\n",
      "33/33 - 0s - loss: 3.0345 - accuracy: 0.0000e+00 - val_loss: 2.3764 - val_accuracy: 0.0000e+00\n",
      "Epoch 72/100\n",
      "33/33 - 0s - loss: 6.9868 - accuracy: 0.0000e+00 - val_loss: 3.0203 - val_accuracy: 0.0000e+00\n",
      "Epoch 73/100\n",
      "33/33 - 0s - loss: 3.1682 - accuracy: 0.0000e+00 - val_loss: 7.4518 - val_accuracy: 0.0000e+00\n",
      "Epoch 74/100\n",
      "33/33 - 0s - loss: 1.8582 - accuracy: 0.0000e+00 - val_loss: 2.5101 - val_accuracy: 0.0000e+00\n",
      "Epoch 75/100\n",
      "33/33 - 0s - loss: 2.2913 - accuracy: 0.0000e+00 - val_loss: 4.3692 - val_accuracy: 0.0000e+00\n",
      "Epoch 76/100\n",
      "33/33 - 0s - loss: 11.4902 - accuracy: 0.0000e+00 - val_loss: 13.7498 - val_accuracy: 0.0000e+00\n",
      "Epoch 77/100\n",
      "33/33 - 0s - loss: 6.9425 - accuracy: 0.0000e+00 - val_loss: 13.1871 - val_accuracy: 0.0000e+00\n",
      "Epoch 78/100\n",
      "33/33 - 0s - loss: 2.0701 - accuracy: 0.0000e+00 - val_loss: 0.5781 - val_accuracy: 0.0000e+00\n",
      "Epoch 79/100\n",
      "33/33 - 0s - loss: 10.9526 - accuracy: 0.0000e+00 - val_loss: 0.9909 - val_accuracy: 0.0000e+00\n",
      "Epoch 80/100\n",
      "33/33 - 0s - loss: 3.1319 - accuracy: 0.0000e+00 - val_loss: 0.8745 - val_accuracy: 0.0000e+00\n",
      "Epoch 81/100\n",
      "33/33 - 0s - loss: 2.8549 - accuracy: 0.0000e+00 - val_loss: 2.9508 - val_accuracy: 0.0000e+00\n",
      "Epoch 82/100\n",
      "33/33 - 0s - loss: 4.2786 - accuracy: 0.0000e+00 - val_loss: 3.5037 - val_accuracy: 0.0000e+00\n",
      "Epoch 83/100\n",
      "33/33 - 0s - loss: 3.4787 - accuracy: 0.0000e+00 - val_loss: 0.0195 - val_accuracy: 0.0000e+00\n",
      "Epoch 84/100\n",
      "33/33 - 0s - loss: 2.6409 - accuracy: 0.0000e+00 - val_loss: 1.7723 - val_accuracy: 0.0000e+00\n",
      "Epoch 85/100\n",
      "33/33 - 0s - loss: 1.5686 - accuracy: 0.0000e+00 - val_loss: 1.9619 - val_accuracy: 0.0000e+00\n",
      "Epoch 86/100\n",
      "33/33 - 0s - loss: 1.2891 - accuracy: 0.0000e+00 - val_loss: 15.0240 - val_accuracy: 0.0000e+00\n",
      "Epoch 87/100\n",
      "33/33 - 0s - loss: 1.5211 - accuracy: 0.0000e+00 - val_loss: 11.9156 - val_accuracy: 0.0000e+00\n",
      "Epoch 88/100\n",
      "33/33 - 0s - loss: 1.4890 - accuracy: 0.0000e+00 - val_loss: 0.0279 - val_accuracy: 0.0000e+00\n",
      "Epoch 89/100\n",
      "33/33 - 0s - loss: 2.2692 - accuracy: 0.0000e+00 - val_loss: 11.8475 - val_accuracy: 0.0000e+00\n",
      "Epoch 90/100\n",
      "33/33 - 0s - loss: 3.3567 - accuracy: 0.0000e+00 - val_loss: 0.1347 - val_accuracy: 0.0000e+00\n",
      "Epoch 91/100\n",
      "33/33 - 0s - loss: 6.2400 - accuracy: 0.0000e+00 - val_loss: 8.1789 - val_accuracy: 0.0000e+00\n",
      "Epoch 92/100\n",
      "33/33 - 0s - loss: 5.2236 - accuracy: 0.0000e+00 - val_loss: 0.1965 - val_accuracy: 0.0000e+00\n",
      "Epoch 93/100\n",
      "33/33 - 0s - loss: 1.9878 - accuracy: 0.0000e+00 - val_loss: 1.2804 - val_accuracy: 0.0000e+00\n",
      "Epoch 94/100\n",
      "33/33 - 0s - loss: 1.9386 - accuracy: 0.0000e+00 - val_loss: 5.0306 - val_accuracy: 0.0000e+00\n",
      "Epoch 95/100\n",
      "33/33 - 0s - loss: 1.8351 - accuracy: 0.0000e+00 - val_loss: 8.0907 - val_accuracy: 0.0000e+00\n",
      "Epoch 96/100\n",
      "33/33 - 0s - loss: 2.3632 - accuracy: 0.0000e+00 - val_loss: 5.5018 - val_accuracy: 0.0000e+00\n",
      "Epoch 97/100\n",
      "33/33 - 0s - loss: 1.7001 - accuracy: 0.0000e+00 - val_loss: 2.7696 - val_accuracy: 0.0000e+00\n",
      "Epoch 98/100\n",
      "33/33 - 0s - loss: 0.9926 - accuracy: 0.0000e+00 - val_loss: 2.0711 - val_accuracy: 0.0000e+00\n",
      "Epoch 99/100\n",
      "33/33 - 0s - loss: 2.0321 - accuracy: 0.0000e+00 - val_loss: 11.1621 - val_accuracy: 0.0000e+00\n",
      "Epoch 100/100\n",
      "33/33 - 0s - loss: 6.1934 - accuracy: 0.0000e+00 - val_loss: 2.6284 - val_accuracy: 0.0000e+00\n"
     ]
    },
    {
     "data": {
      "text/plain": [
       "<tensorflow.python.keras.callbacks.History at 0x14f446cd0>"
      ]
     },
     "execution_count": 23,
     "metadata": {},
     "output_type": "execute_result"
    }
   ],
   "source": [
    "#train the model\n",
    "model.fit(\n",
    "    x, \n",
    "    y, \n",
    "    batch_size=1, \n",
    "    validation_split=0.1,\n",
    "    epochs=100, \n",
    "    verbose=2\n",
    ")"
   ]
  },
  {
   "cell_type": "code",
   "execution_count": 24,
   "metadata": {},
   "outputs": [
    {
     "name": "stdout",
     "output_type": "stream",
     "text": [
      "20\n"
     ]
    },
    {
     "data": {
      "text/plain": [
       "(17, 3, 1)"
      ]
     },
     "execution_count": 24,
     "metadata": {},
     "output_type": "execute_result"
    }
   ],
   "source": [
    "#Prep the test data\n",
    "x_test, y_test = split_sequence(test_set, n_steps)\n",
    "x_test.shape"
   ]
  },
  {
   "cell_type": "code",
   "execution_count": 25,
   "metadata": {},
   "outputs": [
    {
     "name": "stdout",
     "output_type": "stream",
     "text": [
      "17/17 - 0s\n"
     ]
    },
    {
     "data": {
      "text/plain": [
       "array([[38.216248],\n",
       "       [37.909107],\n",
       "       [37.558456],\n",
       "       [37.177044],\n",
       "       [36.753468],\n",
       "       [36.267483],\n",
       "       [35.697025],\n",
       "       [35.029816],\n",
       "       [34.26282 ],\n",
       "       [33.403572],\n",
       "       [32.462273],\n",
       "       [31.459738],\n",
       "       [30.42837 ],\n",
       "       [29.404345],\n",
       "       [28.42127 ],\n",
       "       [27.514523],\n",
       "       [26.709404]], dtype=float32)"
      ]
     },
     "execution_count": 25,
     "metadata": {},
     "output_type": "execute_result"
    }
   ],
   "source": [
    "#Predict\n",
    "predictions = model.predict(\n",
    "    x_test,\n",
    "    batch_size = 1, \n",
    "    verbose = 2\n",
    ")\n",
    "predictions"
   ]
  },
  {
   "cell_type": "code",
   "execution_count": 26,
   "metadata": {},
   "outputs": [
    {
     "data": {
      "image/png": "[encoded data removed]",
      "text/plain": [
       "<Figure size 432x288 with 1 Axes>"
      ]
     },
     "metadata": {
      "needs_background": "light"
     },
     "output_type": "display_data"
    }
   ],
   "source": [
    "# Visualising the results\n",
    "\n",
    "plt.plot(test_years,predictions, color = 'red', label = 'Predicted Birth Rate')\n",
    "plt.plot(test_years,y_test, color = 'blue', label = 'Real Birth Rate')\n",
    "plt.legend()\n",
    "# plt.xticks(np.arange(0,2,8))\n",
    "plt.xlabel('Year')\n",
    "plt.ylabel(label)\n",
    "plt.title(title)\n",
    "plt.show()\n",
    "sns.set(rc={'figure.figsize':(8,6)})"
   ]
  },
  {
   "cell_type": "code",
   "execution_count": 27,
   "metadata": {},
   "outputs": [
    {
     "data": {
      "text/plain": [
       "array([[40.037],\n",
       "       [39.777],\n",
       "       [39.468],\n",
       "       [39.135],\n",
       "       [38.773],\n",
       "       [38.366],\n",
       "       [37.89 ],\n",
       "       [37.33 ],\n",
       "       [36.678],\n",
       "       [35.942],\n",
       "       [35.128],\n",
       "       [34.249],\n",
       "       [33.333],\n",
       "       [32.415],\n",
       "       [31.522],\n",
       "       [30.688],\n",
       "       [29.943],\n",
       "       [29.296],\n",
       "       [28.748],\n",
       "       [28.298]])"
      ]
     },
     "execution_count": 27,
     "metadata": {},
     "output_type": "execute_result"
    }
   ],
   "source": [
    "test_set"
   ]
  },
  {
   "cell_type": "markdown",
   "metadata": {},
   "source": [
    "            -------------Counterfactual Analysis using Dice-------------"
   ]
  },
  {
   "cell_type": "code",
   "execution_count": 29,
   "metadata": {},
   "outputs": [],
   "source": [
    "# supress deprecation warnings from TF\n",
    "tf.compat.v1.logging.set_verbosity(tf.compat.v1.logging.ERROR)\n",
    "\n",
    "backend = 'TF'+tf.__version__[0]  # TF1\n",
    "# ML_modelpath = helpers.get_adult_income_modelpath(backend=backend)\n",
    "# Step 2: dice_ml.Model\n",
    "m = dice_ml.Model(model_path=model, backend=backend)\n"
   ]
  },
  {
   "cell_type": "code",
   "execution_count": null,
   "metadata": {},
   "outputs": [],
   "source": [
    "# Step 1: dice_ml.Data\n",
    "d = dice_ml.Data(dataframe=df, continuous_features=['age', 'hours_per_week'], outcome_name='income')"
   ]
  }
 ],
 "metadata": {
  "kernelspec": {
   "display_name": "Python 3",
   "language": "python",
   "name": "python3"
  },
  "language_info": {
   "codemirror_mode": {
    "name": "ipython",
    "version": 3
   },
   "file_extension": ".py",
   "mimetype": "text/x-python",
   "name": "python",
   "nbconvert_exporter": "python",
   "pygments_lexer": "ipython3",
   "version": "3.8.2"
  }
 },
 "nbformat": 4,
 "nbformat_minor": 4
}
