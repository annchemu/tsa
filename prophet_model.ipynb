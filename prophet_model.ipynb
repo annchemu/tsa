{
 "cells": [
  {
   "cell_type": "code",
   "execution_count": 48,
   "metadata": {},
   "outputs": [],
   "source": [
    "import pandas as pd\n",
    "import numpy as np\n",
    "import matplotlib.dates as mdates\n",
    "from pandas import to_datetime\n",
    "from matplotlib import pyplot as plt\n",
    "from prophet import Prophet\n",
    "from prophet.diagnostics import cross_validation\n",
    "from prophet.diagnostics import performance_metrics\n",
    "from prophet.plot import plot_cross_validation_metric\n",
    "import seaborn as sns"
   ]
  },
  {
   "cell_type": "code",
   "execution_count": 115,
   "metadata": {},
   "outputs": [
    {
     "data": {
      "text/html": [
       "<div>\n",
       "<style scoped>\n",
       "    .dataframe tbody tr th:only-of-type {\n",
       "        vertical-align: middle;\n",
       "    }\n",
       "\n",
       "    .dataframe tbody tr th {\n",
       "        vertical-align: top;\n",
       "    }\n",
       "\n",
       "    .dataframe thead th {\n",
       "        text-align: right;\n",
       "    }\n",
       "</style>\n",
       "<table border=\"1\" class=\"dataframe\">\n",
       "  <thead>\n",
       "    <tr style=\"text-align: right;\">\n",
       "      <th></th>\n",
       "      <th>ds</th>\n",
       "      <th>y</th>\n",
       "    </tr>\n",
       "  </thead>\n",
       "  <tbody>\n",
       "    <tr>\n",
       "      <th>0</th>\n",
       "      <td>1952-12-31</td>\n",
       "      <td>300.0374</td>\n",
       "    </tr>\n",
       "    <tr>\n",
       "      <th>1</th>\n",
       "      <td>1953-12-31</td>\n",
       "      <td>283.9339</td>\n",
       "    </tr>\n",
       "    <tr>\n",
       "      <th>2</th>\n",
       "      <td>1954-12-31</td>\n",
       "      <td>268.4150</td>\n",
       "    </tr>\n",
       "    <tr>\n",
       "      <th>3</th>\n",
       "      <td>1955-12-31</td>\n",
       "      <td>254.0990</td>\n",
       "    </tr>\n",
       "    <tr>\n",
       "      <th>4</th>\n",
       "      <td>1956-12-31</td>\n",
       "      <td>240.8236</td>\n",
       "    </tr>\n",
       "    <tr>\n",
       "      <th>5</th>\n",
       "      <td>1957-12-31</td>\n",
       "      <td>228.6289</td>\n",
       "    </tr>\n",
       "    <tr>\n",
       "      <th>6</th>\n",
       "      <td>1958-12-31</td>\n",
       "      <td>217.4429</td>\n",
       "    </tr>\n",
       "    <tr>\n",
       "      <th>7</th>\n",
       "      <td>1959-12-31</td>\n",
       "      <td>207.2148</td>\n",
       "    </tr>\n",
       "    <tr>\n",
       "      <th>8</th>\n",
       "      <td>1960-12-31</td>\n",
       "      <td>198.1244</td>\n",
       "    </tr>\n",
       "    <tr>\n",
       "      <th>9</th>\n",
       "      <td>1961-12-31</td>\n",
       "      <td>190.0339</td>\n",
       "    </tr>\n",
       "  </tbody>\n",
       "</table>\n",
       "</div>"
      ],
      "text/plain": [
       "           ds         y\n",
       "0  1952-12-31  300.0374\n",
       "1  1953-12-31  283.9339\n",
       "2  1954-12-31  268.4150\n",
       "3  1955-12-31  254.0990\n",
       "4  1956-12-31  240.8236\n",
       "5  1957-12-31  228.6289\n",
       "6  1958-12-31  217.4429\n",
       "7  1959-12-31  207.2148\n",
       "8  1960-12-31  198.1244\n",
       "9  1961-12-31  190.0339"
      ]
     },
     "execution_count": 115,
     "metadata": {},
     "output_type": "execute_result"
    }
   ],
   "source": [
    "#prepare the data\n",
    "\n",
    "df = pd.read_csv('data/univariate/kenya/ken_u5_mortality.csv')\n",
    "df.head(10)"
   ]
  },
  {
   "cell_type": "code",
   "execution_count": 73,
   "metadata": {},
   "outputs": [
    {
     "data": {
      "image/png": "[encoded data removed]",
      "text/plain": [
       "<Figure size 432x288 with 1 Axes>"
      ]
     },
     "metadata": {
      "needs_background": "light"
     },
     "output_type": "display_data"
    }
   ],
   "source": [
    "#visualize csv data\n",
    "fig, ax = plt.subplots()\n",
    "ax.plot(df['ds'],df['y'])\n",
    "\n",
    "#transform the ticks (dates) ----- picked directly from matplotlib\n",
    "# Major ticks every 6 months.\n",
    "fmt_year = mdates.MonthLocator(interval = 60)\n",
    "ax.xaxis.set_major_locator(fmt_year)\n",
    "\n",
    "# Text in the x axis will be displayed in 'YYYY' format.\n",
    "ax.xaxis.set_major_formatter(mdates.DateFormatter('%Y'))\n",
    "\n",
    "# Rotates and right aligns the x labels, and moves the bottom of the axes up to make room for them.\n",
    "fig.autofmt_xdate()\n",
    "plt.xlabel('Year')\n",
    "plt.ylabel('Under 5 Mortality')\n",
    "plt.title('Under 5 Mortality Rate (per 1000 Live Births)')\n",
    "plt.show()\n"
   ]
  },
  {
   "cell_type": "code",
   "execution_count": 75,
   "metadata": {},
   "outputs": [
    {
     "name": "stderr",
     "output_type": "stream",
     "text": [
      "INFO:prophet:Disabling weekly seasonality. Run prophet with weekly_seasonality=True to override this.\n",
      "INFO:prophet:Disabling daily seasonality. Run prophet with daily_seasonality=True to override this.\n"
     ]
    },
    {
     "data": {
      "text/plain": [
       "<prophet.forecaster.Prophet at 0x12fe9f160>"
      ]
     },
     "execution_count": 75,
     "metadata": {},
     "output_type": "execute_result"
    }
   ],
   "source": [
    "#convert the dates to a datetimestring\n",
    "df['ds']= to_datetime(df['ds'])\n",
    "\n",
    "#define and fit the model\n",
    "m= Prophet()\n",
    "m.fit(df)"
   ]
  },
  {
   "cell_type": "code",
   "execution_count": 99,
   "metadata": {},
   "outputs": [
    {
     "name": "stderr",
     "output_type": "stream",
     "text": [
      "INFO:prophet:Making 10 forecasts with cutoffs between 1974-08-24 00:00:00 and 2018-12-31 00:00:00\n"
     ]
    },
    {
     "data": {
      "application/vnd.jupyter.widget-view+json": {
       "model_id": "690431f1a0ac4c26afba9eba1a194065",
       "version_major": 2,
       "version_minor": 0
      },
      "text/plain": [
       "  0%|          | 0/10 [00:00<?, ?it/s]"
      ]
     },
     "metadata": {},
     "output_type": "display_data"
    },
    {
     "name": "stderr",
     "output_type": "stream",
     "text": [
      "INFO:prophet:n_changepoints greater than number of observations. Using 16.\n",
      "INFO:prophet:n_changepoints greater than number of observations. Using 20.\n",
      "INFO:prophet:n_changepoints greater than number of observations. Using 24.\n"
     ]
    },
    {
     "data": {
      "image/png": "[encoded data removed]",
      "text/plain": [
       "<Figure size 720x432 with 1 Axes>"
      ]
     },
     "metadata": {},
     "output_type": "display_data"
    }
   ],
   "source": [
    "#check model perfomance using cross validation\n",
    "#not sure how this works with little data\n",
    "\n",
    "#create a custom cutoff date\n",
    "cutoffs = pd.to_datetime(['1980-12-21','1990-12-21','2000-12-21'])\n",
    "\n",
    "df_cv = cross_validation(m, initial='7300 days', period='1800 days', horizon = '365 days')\n",
    "\n",
    "df_p = performance_metrics(df_cv)\n",
    "df_p.head()\n",
    "\n",
    "fig = plot_cross_validation_metric(df_cv, metric='mse')\n"
   ]
  },
  {
   "cell_type": "code",
   "execution_count": 113,
   "metadata": {},
   "outputs": [
    {
     "data": {
      "text/html": [
       "<div>\n",
       "<style scoped>\n",
       "    .dataframe tbody tr th:only-of-type {\n",
       "        vertical-align: middle;\n",
       "    }\n",
       "\n",
       "    .dataframe tbody tr th {\n",
       "        vertical-align: top;\n",
       "    }\n",
       "\n",
       "    .dataframe thead th {\n",
       "        text-align: right;\n",
       "    }\n",
       "</style>\n",
       "<table border=\"1\" class=\"dataframe\">\n",
       "  <thead>\n",
       "    <tr style=\"text-align: right;\">\n",
       "      <th></th>\n",
       "      <th>ds</th>\n",
       "      <th>yhat</th>\n",
       "    </tr>\n",
       "  </thead>\n",
       "  <tbody>\n",
       "    <tr>\n",
       "      <th>68</th>\n",
       "      <td>2020-12-31</td>\n",
       "      <td>37.405641</td>\n",
       "    </tr>\n",
       "    <tr>\n",
       "      <th>69</th>\n",
       "      <td>2021-12-31</td>\n",
       "      <td>34.794367</td>\n",
       "    </tr>\n",
       "    <tr>\n",
       "      <th>70</th>\n",
       "      <td>2022-12-31</td>\n",
       "      <td>32.345784</td>\n",
       "    </tr>\n",
       "    <tr>\n",
       "      <th>71</th>\n",
       "      <td>2023-12-31</td>\n",
       "      <td>30.057782</td>\n",
       "    </tr>\n",
       "    <tr>\n",
       "      <th>72</th>\n",
       "      <td>2024-12-31</td>\n",
       "      <td>27.631311</td>\n",
       "    </tr>\n",
       "    <tr>\n",
       "      <th>73</th>\n",
       "      <td>2025-12-31</td>\n",
       "      <td>25.020037</td>\n",
       "    </tr>\n",
       "    <tr>\n",
       "      <th>74</th>\n",
       "      <td>2026-12-31</td>\n",
       "      <td>22.571454</td>\n",
       "    </tr>\n",
       "    <tr>\n",
       "      <th>75</th>\n",
       "      <td>2027-12-31</td>\n",
       "      <td>20.283452</td>\n",
       "    </tr>\n",
       "    <tr>\n",
       "      <th>76</th>\n",
       "      <td>2028-12-31</td>\n",
       "      <td>17.856981</td>\n",
       "    </tr>\n",
       "    <tr>\n",
       "      <th>77</th>\n",
       "      <td>2029-12-31</td>\n",
       "      <td>15.245707</td>\n",
       "    </tr>\n",
       "  </tbody>\n",
       "</table>\n",
       "</div>"
      ],
      "text/plain": [
       "           ds       yhat\n",
       "68 2020-12-31  37.405641\n",
       "69 2021-12-31  34.794367\n",
       "70 2022-12-31  32.345784\n",
       "71 2023-12-31  30.057782\n",
       "72 2024-12-31  27.631311\n",
       "73 2025-12-31  25.020037\n",
       "74 2026-12-31  22.571454\n",
       "75 2027-12-31  20.283452\n",
       "76 2028-12-31  17.856981\n",
       "77 2029-12-31  15.245707"
      ]
     },
     "execution_count": 113,
     "metadata": {},
     "output_type": "execute_result"
    }
   ],
   "source": [
    "#predict\n",
    "\n",
    "#prepare the future dates\n",
    "future = m.make_future_dataframe(freq = 'Y', periods=10)\n",
    "\n",
    "forecast = m.predict(future)\n",
    "forecast[['ds','yhat']].tail(10)"
   ]
  },
  {
   "cell_type": "code",
   "execution_count": 111,
   "metadata": {},
   "outputs": [
    {
     "data": {
      "image/png": "[encoded data removed]",
      "text/plain": [
       "<Figure size 432x288 with 1 Axes>"
      ]
     },
     "metadata": {
      "needs_background": "light"
     },
     "output_type": "display_data"
    }
   ],
   "source": [
    "#visualize\n",
    "# predicted = m.plot(forecast)\n",
    "\n",
    "fig, ax = plt.subplots()\n",
    "ax.plot(df['ds'],df['y'], color = 'blue', label = 'Real Under 5 Mortality')\n",
    "ax.plot(forecast['ds'],forecast['yhat'], color = 'green', label = 'Predicted Under 5 Mortality')\n",
    "\n",
    "# Major ticks every 6 months.\n",
    "fmt_year = mdates.MonthLocator(interval = 60)\n",
    "ax.xaxis.set_major_locator(fmt_year)\n",
    "\n",
    "# Text in the x axis will be displayed in 'YYYY' format.\n",
    "ax.xaxis.set_major_formatter(mdates.DateFormatter('%Y'))\n",
    "\n",
    "# Rotates and right aligns the x labels, and moves the bottom of the axes up to make room for them.\n",
    "fig.autofmt_xdate()\n",
    "plt.xlabel('Year')\n",
    "plt.legend()\n",
    "plt.ylabel('Under 5 Mortality')\n",
    "plt.title('Under 5 Mortality Rate (per 1000 Live Births)')\n",
    "plt.show()"
   ]
  },
  {
   "cell_type": "code",
   "execution_count": null,
   "metadata": {},
   "outputs": [],
   "source": []
  }
 ],
 "metadata": {
  "kernelspec": {
   "display_name": "Python 3",
   "language": "python",
   "name": "python3"
  },
  "language_info": {
   "codemirror_mode": {
    "name": "ipython",
    "version": 3
   },
   "file_extension": ".py",
   "mimetype": "text/x-python",
   "name": "python",
   "nbconvert_exporter": "python",
   "pygments_lexer": "ipython3",
   "version": "3.8.2"
  }
 },
 "nbformat": 4,
 "nbformat_minor": 4
}
